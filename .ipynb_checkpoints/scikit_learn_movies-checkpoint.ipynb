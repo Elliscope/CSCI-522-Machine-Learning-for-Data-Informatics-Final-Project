{
 "cells": [
  {
   "cell_type": "code",
   "execution_count": 1,
   "metadata": {
    "collapsed": false
   },
   "outputs": [],
   "source": [
    "# import load_iris function from datasets module\n",
    "from sklearn.datasets import load_iris\n",
    "from sklearn import metrics\n",
    "from sklearn.metrics import f1_score\n",
    "import csv\n",
    "import numpy as np\n",
    "import pandas as pd # data processing, CSV file I/O (e.g. pd.read_csv)\n",
    "from sklearn.decomposition import PCA # Principal Component Analysis module\n",
    "from sklearn.cluster import KMeans # KMeans clustering \n",
    "import matplotlib.pyplot as plt # Python defacto plotting library\n",
    "import seaborn as sns # More snazzy plotting library\n",
    "%matplotlib inline \n",
    "from gensim.models import word2vec\n",
    "from sklearn import svm\n",
    "from sklearn import ensemble\n",
    "from sklearn.feature_selection import RFE"
   ]
  },
  {
   "cell_type": "code",
   "execution_count": 2,
   "metadata": {
    "collapsed": false
   },
   "outputs": [],
   "source": [
    "#Load csv data\n",
    "with open(\"movie_metadata.csv\", 'rb') as f:\n",
    "    raw_data = list(csv.reader(f))\n",
    "        "
   ]
  },
  {
   "cell_type": "code",
   "execution_count": 3,
   "metadata": {
    "collapsed": false
   },
   "outputs": [],
   "source": [
    "#clean the dataset by ignoring it if any column is empty or equal to 0\n",
    "\n",
    "data = []\n",
    "counter = 0\n",
    "for row in raw_data:\n",
    "    qualified = True\n",
    "    for column in row:\n",
    "        if column == \" \"or column == 0 or column ==\"0\":\n",
    "            qualified = False\n",
    "    if qualified:\n",
    "        data.append(row)\n",
    "    counter = counter + 1"
   ]
  },
  {
   "cell_type": "code",
   "execution_count": 4,
   "metadata": {
    "collapsed": false
   },
   "outputs": [
    {
     "data": {
      "text/html": [
       "<div>\n",
       "<table border=\"1\" class=\"dataframe\">\n",
       "  <thead>\n",
       "    <tr style=\"text-align: right;\">\n",
       "      <th></th>\n",
       "      <th>color</th>\n",
       "      <th>director_name</th>\n",
       "      <th>num_critic_for_reviews</th>\n",
       "      <th>duration</th>\n",
       "      <th>director_facebook_likes</th>\n",
       "      <th>actor_3_facebook_likes</th>\n",
       "      <th>actor_2_name</th>\n",
       "      <th>actor_1_facebook_likes</th>\n",
       "      <th>gross</th>\n",
       "      <th>genres</th>\n",
       "      <th>...</th>\n",
       "      <th>num_user_for_reviews</th>\n",
       "      <th>language</th>\n",
       "      <th>country</th>\n",
       "      <th>content_rating</th>\n",
       "      <th>budget</th>\n",
       "      <th>title_year</th>\n",
       "      <th>actor_2_facebook_likes</th>\n",
       "      <th>imdb_score</th>\n",
       "      <th>aspect_ratio</th>\n",
       "      <th>movie_facebook_likes</th>\n",
       "    </tr>\n",
       "  </thead>\n",
       "  <tbody>\n",
       "    <tr>\n",
       "      <th>0</th>\n",
       "      <td>Color</td>\n",
       "      <td>James Cameron</td>\n",
       "      <td>723.0</td>\n",
       "      <td>178.0</td>\n",
       "      <td>0.0</td>\n",
       "      <td>855.0</td>\n",
       "      <td>Joel David Moore</td>\n",
       "      <td>1000.0</td>\n",
       "      <td>760505847.0</td>\n",
       "      <td>Action|Adventure|Fantasy|Sci-Fi</td>\n",
       "      <td>...</td>\n",
       "      <td>3054.0</td>\n",
       "      <td>English</td>\n",
       "      <td>USA</td>\n",
       "      <td>PG-13</td>\n",
       "      <td>237000000.0</td>\n",
       "      <td>2009.0</td>\n",
       "      <td>936.0</td>\n",
       "      <td>7.9</td>\n",
       "      <td>1.78</td>\n",
       "      <td>33000</td>\n",
       "    </tr>\n",
       "    <tr>\n",
       "      <th>1</th>\n",
       "      <td>Color</td>\n",
       "      <td>Gore Verbinski</td>\n",
       "      <td>302.0</td>\n",
       "      <td>169.0</td>\n",
       "      <td>563.0</td>\n",
       "      <td>1000.0</td>\n",
       "      <td>Orlando Bloom</td>\n",
       "      <td>40000.0</td>\n",
       "      <td>309404152.0</td>\n",
       "      <td>Action|Adventure|Fantasy</td>\n",
       "      <td>...</td>\n",
       "      <td>1238.0</td>\n",
       "      <td>English</td>\n",
       "      <td>USA</td>\n",
       "      <td>PG-13</td>\n",
       "      <td>300000000.0</td>\n",
       "      <td>2007.0</td>\n",
       "      <td>5000.0</td>\n",
       "      <td>7.1</td>\n",
       "      <td>2.35</td>\n",
       "      <td>0</td>\n",
       "    </tr>\n",
       "    <tr>\n",
       "      <th>2</th>\n",
       "      <td>Color</td>\n",
       "      <td>Sam Mendes</td>\n",
       "      <td>602.0</td>\n",
       "      <td>148.0</td>\n",
       "      <td>0.0</td>\n",
       "      <td>161.0</td>\n",
       "      <td>Rory Kinnear</td>\n",
       "      <td>11000.0</td>\n",
       "      <td>200074175.0</td>\n",
       "      <td>Action|Adventure|Thriller</td>\n",
       "      <td>...</td>\n",
       "      <td>994.0</td>\n",
       "      <td>English</td>\n",
       "      <td>UK</td>\n",
       "      <td>PG-13</td>\n",
       "      <td>245000000.0</td>\n",
       "      <td>2015.0</td>\n",
       "      <td>393.0</td>\n",
       "      <td>6.8</td>\n",
       "      <td>2.35</td>\n",
       "      <td>85000</td>\n",
       "    </tr>\n",
       "    <tr>\n",
       "      <th>3</th>\n",
       "      <td>Color</td>\n",
       "      <td>Christopher Nolan</td>\n",
       "      <td>813.0</td>\n",
       "      <td>164.0</td>\n",
       "      <td>22000.0</td>\n",
       "      <td>23000.0</td>\n",
       "      <td>Christian Bale</td>\n",
       "      <td>27000.0</td>\n",
       "      <td>448130642.0</td>\n",
       "      <td>Action|Thriller</td>\n",
       "      <td>...</td>\n",
       "      <td>2701.0</td>\n",
       "      <td>English</td>\n",
       "      <td>USA</td>\n",
       "      <td>PG-13</td>\n",
       "      <td>250000000.0</td>\n",
       "      <td>2012.0</td>\n",
       "      <td>23000.0</td>\n",
       "      <td>8.5</td>\n",
       "      <td>2.35</td>\n",
       "      <td>164000</td>\n",
       "    </tr>\n",
       "    <tr>\n",
       "      <th>4</th>\n",
       "      <td>NaN</td>\n",
       "      <td>Doug Walker</td>\n",
       "      <td>NaN</td>\n",
       "      <td>NaN</td>\n",
       "      <td>131.0</td>\n",
       "      <td>NaN</td>\n",
       "      <td>Rob Walker</td>\n",
       "      <td>131.0</td>\n",
       "      <td>NaN</td>\n",
       "      <td>Documentary</td>\n",
       "      <td>...</td>\n",
       "      <td>NaN</td>\n",
       "      <td>NaN</td>\n",
       "      <td>NaN</td>\n",
       "      <td>NaN</td>\n",
       "      <td>NaN</td>\n",
       "      <td>NaN</td>\n",
       "      <td>12.0</td>\n",
       "      <td>7.1</td>\n",
       "      <td>NaN</td>\n",
       "      <td>0</td>\n",
       "    </tr>\n",
       "  </tbody>\n",
       "</table>\n",
       "<p>5 rows × 28 columns</p>\n",
       "</div>"
      ],
      "text/plain": [
       "   color      director_name  num_critic_for_reviews  duration  \\\n",
       "0  Color      James Cameron                   723.0     178.0   \n",
       "1  Color     Gore Verbinski                   302.0     169.0   \n",
       "2  Color         Sam Mendes                   602.0     148.0   \n",
       "3  Color  Christopher Nolan                   813.0     164.0   \n",
       "4    NaN        Doug Walker                     NaN       NaN   \n",
       "\n",
       "   director_facebook_likes  actor_3_facebook_likes      actor_2_name  \\\n",
       "0                      0.0                   855.0  Joel David Moore   \n",
       "1                    563.0                  1000.0     Orlando Bloom   \n",
       "2                      0.0                   161.0      Rory Kinnear   \n",
       "3                  22000.0                 23000.0    Christian Bale   \n",
       "4                    131.0                     NaN        Rob Walker   \n",
       "\n",
       "   actor_1_facebook_likes        gross                           genres  \\\n",
       "0                  1000.0  760505847.0  Action|Adventure|Fantasy|Sci-Fi   \n",
       "1                 40000.0  309404152.0         Action|Adventure|Fantasy   \n",
       "2                 11000.0  200074175.0        Action|Adventure|Thriller   \n",
       "3                 27000.0  448130642.0                  Action|Thriller   \n",
       "4                   131.0          NaN                      Documentary   \n",
       "\n",
       "          ...          num_user_for_reviews language  country  content_rating  \\\n",
       "0         ...                        3054.0  English      USA           PG-13   \n",
       "1         ...                        1238.0  English      USA           PG-13   \n",
       "2         ...                         994.0  English       UK           PG-13   \n",
       "3         ...                        2701.0  English      USA           PG-13   \n",
       "4         ...                           NaN      NaN      NaN             NaN   \n",
       "\n",
       "        budget  title_year actor_2_facebook_likes imdb_score  aspect_ratio  \\\n",
       "0  237000000.0      2009.0                  936.0        7.9          1.78   \n",
       "1  300000000.0      2007.0                 5000.0        7.1          2.35   \n",
       "2  245000000.0      2015.0                  393.0        6.8          2.35   \n",
       "3  250000000.0      2012.0                23000.0        8.5          2.35   \n",
       "4          NaN         NaN                   12.0        7.1           NaN   \n",
       "\n",
       "  movie_facebook_likes  \n",
       "0                33000  \n",
       "1                    0  \n",
       "2                85000  \n",
       "3               164000  \n",
       "4                    0  \n",
       "\n",
       "[5 rows x 28 columns]"
      ]
     },
     "execution_count": 4,
     "metadata": {},
     "output_type": "execute_result"
    }
   ],
   "source": [
    "movie = pd.read_csv('movie_metadata.csv') # reads the csv and creates the dataframe called movie\n",
    "movie.head()"
   ]
  },
  {
   "cell_type": "code",
   "execution_count": 5,
   "metadata": {
    "collapsed": false
   },
   "outputs": [],
   "source": [
    "#plot_keywords -> numerical values\n",
    "#dictioinarize the plot keywords section with their corresponding imdb_score\n",
    "plot_keywords_dic = {}\n",
    "for index, row in movie.iterrows():\n",
    "    words_array = str(row[\"plot_keywords\"]).split(\"|\")\n",
    "    for word in words_array:\n",
    "        if word not in plot_keywords_dic:\n",
    "            plot_keywords_dic[word] = []\n",
    "        plot_keywords_dic[word].append(row[\"imdb_score\"])\n",
    "\n",
    "#compute the average of all the plot keywords in the dictionary\n",
    "for key, elem in plot_keywords_dic.items():\n",
    "    plot_keywords_dic[key] = sum(elem)/len(elem)\n",
    "\n",
    "        \n",
    "#convert the orignal movie value to the sum of the top five keywords foundable in the training dataset\n",
    "for index, row in movie.iterrows():\n",
    "    words_array = str(row[\"plot_keywords\"]).split(\"|\")\n",
    "    plot_value = 0\n",
    "    counter = 0\n",
    "    i = 0\n",
    "    while counter < 5 and i < len(words_array):\n",
    "        if(words_array[i] in plot_keywords_dic):\n",
    "            plot_value = plot_value + plot_keywords_dic[words_array[i]]\n",
    "            counter = counter + 1\n",
    "        i = i + 1\n",
    "    movie.set_value(index,'plot_keywords',plot_value)\n",
    "    \n",
    "\n",
    "#Genres -> Column Feature\n",
    "genre_list = []\n",
    "for index, row in movie.iterrows():\n",
    "    words_array = str(row[\"genres\"]).split(\"|\")\n",
    "    for word in words_array:\n",
    "        if word not in genre_list:\n",
    "            genre_list.append(word)\n",
    "            \n",
    "for movie_genre in genre_list:\n",
    "    movie[movie_genre] = pd.Series(0,index=movie.index)\n",
    "    \n",
    "#convert the orignal movie value to the sum of the top five keywords foundable in the training dataset\n",
    "for index, row in movie.iterrows():\n",
    "    words_array = str(row[\"genres\"]).split(\"|\")\n",
    "    for word in words_array:\n",
    "        movie.set_value(index,word,1)\n",
    "    \n",
    "\n",
    "#Country -> Index\n",
    "country_dic = {}\n",
    "for index, row in movie.iterrows():\n",
    "    word = str(row[\"country\"])\n",
    "    if word not in country_dic:\n",
    "        country_dic[word] = [1]\n",
    "        \n",
    "country_index = 1\n",
    "#assign each country an index number\n",
    "for key, elem in country_dic.items():\n",
    "    country_dic[key] = country_index\n",
    "    country_index = country_index+1\n",
    "    \n",
    "for index, row in movie.iterrows():\n",
    "    word = str(row[\"country\"])\n",
    "    movie.set_value(index,'country',country_dic[word])\n",
    "    "
   ]
  },
  {
   "cell_type": "code",
   "execution_count": 6,
   "metadata": {
    "collapsed": false
   },
   "outputs": [],
   "source": [
    "# converting director_name, actor1_name, actor2_name, actor3_name, content rating, and language to numeric values\n",
    "director_map = {}\n",
    "count = 0\n",
    "for name in movie[\"director_name\"]:\n",
    "    if not director_map.has_key(str(name)):\n",
    "        #dict[str(name)] = count\n",
    "        director_map.update({str(name): count})\n",
    "        count+=1\n",
    "#print director_map\n",
    "\n",
    "# converting actor1 to values\n",
    "actors_map = {}\n",
    "actors_count = 0\n",
    "\n",
    "tempActors = movie[\"actor_1_name\"].copy(True);\n",
    "pd.np.random.shuffle(tempActors)\n",
    "#for name in movie[\"actor_1_name\"]:\n",
    "for name in tempActors:\n",
    "    #print name\n",
    "    if not actors_map.has_key(str(name)):\n",
    "        actors_map.update({str(name): actors_count})\n",
    "        actors_count+=1\n",
    "\n",
    "# converting actor2 to values\n",
    "tempActors = movie[\"actor_2_name\"].copy(True);\n",
    "pd.np.random.shuffle(tempActors)\n",
    "#for name in movie[\"actor_2_name\"]:\n",
    "for name in tempActors:\n",
    "    if not actors_map.has_key(str(name)):\n",
    "        actors_map.update({str(name): actors_count})\n",
    "        actors_count+=1\n",
    "        \n",
    "tempActors = movie[\"actor_3_name\"].copy(True);\n",
    "pd.np.random.shuffle(tempActors)\n",
    "# converting actor3 to values\n",
    "#for name in movie[\"actor_3_name\"]:\n",
    "for name in tempActors:\n",
    "    if not actors_map.has_key(str(name)):\n",
    "        actors_map.update({str(name): actors_count})\n",
    "        actors_count+=1\n",
    "        \n",
    "rating_map = {}\n",
    "rating_count = 0\n",
    "for rating in movie[\"content_rating\"]:\n",
    "    if not str(rating) in rating_map:\n",
    "        rating_map.update({str(rating): rating_count})\n",
    "        rating_count+=1\n",
    "        #print rating\n",
    "        \n",
    "language_map = {}\n",
    "language_count = 0\n",
    "for language in movie[\"language\"]:\n",
    "    if not str(language) in language_map:\n",
    "        language_map.update({str(language): language_count})\n",
    "        language_count+=1\n",
    "        \n",
    "for index, row in movie.iterrows():\n",
    "    movie.set_value(index, 'director_name', director_map[str(row['director_name'])])\n",
    "    movie.set_value(index, 'actor_1_name', actors_map[str(row['actor_1_name'])])\n",
    "    movie.set_value(index, 'actor_2_name', actors_map[str(row['actor_2_name'])])\n",
    "    movie.set_value(index, 'actor_3_name', actors_map[str(row['actor_3_name'])])    \n",
    "    movie.set_value(index, 'language', language_map[str(row['language'])])\n",
    "    movie.set_value(index, 'content_rating', rating_map[str(row['content_rating'])])\n",
    "    \n",
    "movie.head()\n",
    "\n",
    "str_list = [] # empty list to contain columns with strings (words)\n",
    "for colname, colvalue in movie.iteritems():\n",
    "    if type(colvalue[1]) == str:\n",
    "         str_list.append(colname)\n",
    "    \n",
    "#include the column name if applicable \n",
    "str_list.append(\"imdb_score\")\n",
    "            \n",
    "\n",
    "# Get to the numeric columns by inversion            \n",
    "num_list = movie.columns.difference(str_list)  "
   ]
  },
  {
   "cell_type": "code",
   "execution_count": 7,
   "metadata": {
    "collapsed": false
   },
   "outputs": [],
   "source": [
    "movie_num = movie[num_list]\n",
    "#del movie # Get rid of movie df as we won't need it now\n",
    "#movie_num.head()\n",
    "\n",
    "#Remove some existing features generated after the movie is screening\n",
    "del movie_num['gross']\n",
    "del movie_num['num_critic_for_reviews']\n",
    "del movie_num['num_user_for_reviews']"
   ]
  },
  {
   "cell_type": "code",
   "execution_count": 8,
   "metadata": {
    "collapsed": false
   },
   "outputs": [],
   "source": [
    "movie_num = movie_num.fillna(value=0, axis=1)\n",
    "X = movie_num.values\n",
    "#print movie_num.head()\n",
    "# Data Normalization\n",
    "from sklearn.preprocessing import StandardScaler\n",
    "X_std = StandardScaler().fit_transform(X)"
   ]
  },
  {
   "cell_type": "code",
   "execution_count": 9,
   "metadata": {
    "collapsed": false,
    "scrolled": false
   },
   "outputs": [
    {
     "data": {
      "text/plain": [
       "<matplotlib.axes._subplots.AxesSubplot at 0x10fefb690>"
      ]
     },
     "execution_count": 9,
     "metadata": {},
     "output_type": "execute_result"
    },
    {
     "data": {
      "image/png": "[encoded data removed]",
      "text/plain": [
       "<matplotlib.figure.Figure at 0x10ff01a90>"
      ]
     },
     "metadata": {},
     "output_type": "display_data"
    }
   ],
   "source": [
    "# Set up the matplotlib figure\n",
    "f, ax = plt.subplots(figsize=(8, 8))\n",
    "plt.title('Pearson Correlation of Movie Features')\n",
    "# Draw the heatmap using seaborn\n",
    "sns.heatmap(movie_num.astype(float).corr(),linewidths=0.25,vmax=1.0, square=True, cmap=\"YlGnBu\", linecolor='black')\n",
    "\n",
    "#Pearson Correlation shows how does each variable corelate to each other\n",
    "#1 means totally linear correlation, 0 means no correlation and -1 means totally negative linear correlation"
   ]
  },
  {
   "cell_type": "code",
   "execution_count": 10,
   "metadata": {
    "collapsed": true
   },
   "outputs": [],
   "source": [
    "#explained variance measure\n",
    "# Calculating Eigenvectors and eigenvalues of Cov matirx\n",
    "mean_vec = np.mean(X_std, axis=0)\n",
    "cov_mat = np.cov(X_std.T)\n",
    "eig_vals, eig_vecs = np.linalg.eig(cov_mat)"
   ]
  },
  {
   "cell_type": "code",
   "execution_count": 11,
   "metadata": {
    "collapsed": false
   },
   "outputs": [],
   "source": [
    "# Create a list of (eigenvalue, eigenvector) tuples\n",
    "eig_pairs = [ (np.abs(eig_vals[i]),eig_vecs[:,i]) for i in range(len(eig_vals))]\n",
    "\n",
    "# Sort from high to low\n",
    "eig_pairs.sort(key = lambda x: x[0], reverse= True)\n",
    "\n",
    "# Calculation of Explained Variance from the eigenvalues\n",
    "tot = sum(eig_vals)\n",
    "var_exp = [(i/tot)*100 for i in sorted(eig_vals, reverse=True)] # Individual explained variance\n",
    "cum_var_exp = np.cumsum(var_exp) # Cumulative explained variance\n",
    "#print cum_var_exp"
   ]
  },
  {
   "cell_type": "code",
   "execution_count": null,
   "metadata": {
    "collapsed": false
   },
   "outputs": [],
   "source": []
  },
  {
   "cell_type": "code",
   "execution_count": 12,
   "metadata": {
    "collapsed": true
   },
   "outputs": [],
   "source": [
    "#PCA\n",
    "\n",
    "pca = PCA(n_components=9)\n",
    "x_9d = pca.fit_transform(X_std)\n",
    "\n",
    "#x_9d is the dataset that contains the PCA(9) of the movie variable data"
   ]
  },
  {
   "cell_type": "code",
   "execution_count": 13,
   "metadata": {
    "collapsed": false
   },
   "outputs": [
    {
     "name": "stdout",
     "output_type": "stream",
     "text": [
      "5043\n"
     ]
    }
   ],
   "source": [
    "# make 5 folds\n",
    "print len(movie_num)\n",
    "\n",
    "# there are 5043 samples, so we will have 1008 in 4 training sets, and 1011 in the test set\n",
    "x_folds = []\n",
    "y_folds = []\n",
    "x_folds.append(movie_num[0:1007].values.tolist())\n",
    "y_folds.append(movie[\"imdb_score\"][0:1007].values.T.tolist())\n",
    "x_folds.append(movie_num[1008:2015].values.tolist())\n",
    "y_folds.append(movie[\"imdb_score\"][1008:2015].values.T.tolist())\n",
    "x_folds.append(movie_num[2016:3023].values.tolist())\n",
    "y_folds.append(movie[\"imdb_score\"][2016:3023].values.T.tolist())\n",
    "x_folds.append(movie_num[3024:4031].values.tolist())\n",
    "y_folds.append(movie[\"imdb_score\"][3024:4031].values.T.tolist())\n",
    "x_folds.append(movie_num[4032:5042].values.tolist())\n",
    "y_folds.append(movie[\"imdb_score\"][4032:5042].values.T.tolist())\n",
    "\n",
    "# set the test set to be the 5th fold\n",
    "x_test_set = x_folds[4]\n",
    "y_test_set = y_folds[4]\n",
    "\n",
    "# now merge the 4 folds in 4 different ways for cross validation\n",
    "X_training_sets = []\n",
    "Y_training_sets = []\n",
    "\n",
    "X_validation_sets = []\n",
    "Y_validation_sets = []\n",
    "\n",
    "# merge folds 0,1,2, leave fold 3 for validation\n",
    "X_training_sets.append([])\n",
    "Y_training_sets.append([])\n",
    "X_training_sets[0].extend(x_folds[0])\n",
    "Y_training_sets[0].extend(y_folds[0])\n",
    "X_training_sets[0].extend(x_folds[1])\n",
    "Y_training_sets[0].extend(y_folds[1])\n",
    "X_training_sets[0].extend(x_folds[2])\n",
    "Y_training_sets[0].extend(y_folds[2])\n",
    "\n",
    "X_validation_sets.append([])\n",
    "X_validation_sets[0].extend(x_folds[3])\n",
    "Y_validation_sets.append([])\n",
    "Y_validation_sets[0].extend(y_folds[3])\n",
    "\n",
    "# merge folds 1,2,3 leave fold 0 for validation\n",
    "X_training_sets.append([])\n",
    "Y_training_sets.append([])\n",
    "X_training_sets[1].extend(x_folds[1])\n",
    "Y_training_sets[1].extend(y_folds[1])\n",
    "X_training_sets[1].extend(x_folds[2])\n",
    "Y_training_sets[1].extend(y_folds[2])\n",
    "X_training_sets[1].extend(x_folds[3])\n",
    "Y_training_sets[1].extend(y_folds[3])\n",
    "\n",
    "X_validation_sets.append([])\n",
    "X_validation_sets[1].extend(x_folds[0])\n",
    "Y_validation_sets.append([])\n",
    "Y_validation_sets[1].extend(y_folds[0])\n",
    "\n",
    "# merge folds 0,2,3 leave fold 1 for validation\n",
    "X_training_sets.append([])\n",
    "Y_training_sets.append([])\n",
    "X_training_sets[2].extend(x_folds[0])\n",
    "Y_training_sets[2].extend(y_folds[0])\n",
    "X_training_sets[2].extend(x_folds[2])\n",
    "Y_training_sets[2].extend(y_folds[2])\n",
    "X_training_sets[2].extend(x_folds[3])\n",
    "Y_training_sets[2].extend(y_folds[3])\n",
    "\n",
    "X_validation_sets.append([])\n",
    "X_validation_sets[2].extend(x_folds[1])\n",
    "Y_validation_sets.append([])\n",
    "Y_validation_sets[2].extend(y_folds[1])\n",
    "\n",
    "# merge folds 0,1,3 leave fold 2 for validation\n",
    "X_training_sets.append([])\n",
    "Y_training_sets.append([])\n",
    "X_training_sets[3].extend(x_folds[0])\n",
    "Y_training_sets[3].extend(y_folds[0])\n",
    "X_training_sets[3].extend(x_folds[1])\n",
    "Y_training_sets[3].extend(y_folds[1])\n",
    "X_training_sets[3].extend(x_folds[3])\n",
    "Y_training_sets[3].extend(y_folds[3])\n",
    "\n",
    "X_validation_sets.append([])\n",
    "X_validation_sets[3].extend(x_folds[2])\n",
    "Y_validation_sets.append([])\n",
    "Y_validation_sets[3].extend(y_folds[2])\n",
    "\n",
    "#print X_validation_sets"
   ]
  },
  {
   "cell_type": "code",
   "execution_count": 24,
   "metadata": {
    "collapsed": false
   },
   "outputs": [
    {
     "name": "stdout",
     "output_type": "stream",
     "text": [
      "LinearRegression Result:\n",
      "\n",
      "\n",
      "{'copy_X': True, 'normalize': True, 'n_jobs': 1, 'fit_intercept': True}\n",
      "Best parameter value is:  {'copy_X': True, 'normalize': False, 'fit_intercept': True}\n",
      "Mean Squared Error:  1.28450928619\n",
      "Mean absolute error:  0.822636332043\n",
      "Explained Variance:  0.252216413627\n",
      "R2:  0.187356066408\n"
     ]
    }
   ],
   "source": [
    "from sklearn.svm import SVC\n",
    "from sklearn.model_selection import GridSearchCV\n",
    "from sklearn.neural_network import MLPClassifier\n",
    "from sklearn.linear_model import LinearRegression\n",
    "\n",
    "x_training_4folds = [] \n",
    "y_training_4folds = []\n",
    "x_training_4folds.extend(movie_num[0:4031].values.tolist())\n",
    "y_training_4folds.extend(movie[\"imdb_score\"][0:4031].values.T.tolist())\n",
    "\n",
    "x_feature_sel = []\n",
    "y_feature_sel = []\n",
    "x_feature_sel.extend(movie_num[0:1000].values.tolist())\n",
    "y_feature_sel.extend(movie[\"imdb_score\"][0:1000].values.T.tolist())\n",
    "\n",
    "print \"LinearRegression Result:\"\n",
    "print \"\\n\"\n",
    "\n",
    "clf = LinearRegression(normalize=True)\n",
    "print clf.get_params()\n",
    "parameters = {'fit_intercept':[True,False], 'normalize':[True,False], 'copy_X':[True, False]}\n",
    "grid_search = GridSearchCV(LinearRegression(),parameters, cv=4)\n",
    "grid_search.fit(x_training_4folds, y_training_4folds)\n",
    "\n",
    "#grid_search.best_params_\n",
    "#print \"For the Logistic Regression: \"\n",
    "print \"Best parameter value is: \", grid_search.best_params_\n",
    "\n",
    "clf = LinearRegression(copy_X=True, normalize=True, n_jobs=1, fit_intercept=True)\n",
    "clf.fit(x_training_4folds, y_training_4folds)\n",
    "y_test_pred = clf.predict(x_test_set)\n",
    "mean_sq_error =  metrics.mean_squared_error(y_test_set, y_test_pred)\n",
    "\n",
    "\n",
    "print \"Mean Squared Error: \", mean_sq_error\n",
    "print \"Mean absolute error: \", metrics.mean_absolute_error(y_test_set, y_test_pred)\n",
    "print \"Explained Variance: \", metrics.explained_variance_score(y_test_set, y_test_pred)\n",
    "print \"R2: \", metrics.r2_score(y_test_set, y_test_pred)"
   ]
  },
  {
   "cell_type": "code",
   "execution_count": null,
   "metadata": {
    "collapsed": false
   },
   "outputs": [],
   "source": []
  },
  {
   "cell_type": "code",
   "execution_count": 15,
   "metadata": {
    "collapsed": false
   },
   "outputs": [
    {
     "name": "stdout",
     "output_type": "stream",
     "text": [
      "Support Vector Machine: Support Vector Regression Results:\n",
      "Best parameter value is:  {'C': 10}\n",
      "Mean Squared Error:  1.5429923099\n",
      "Mean absolute error:  0.970453213301\n",
      "Explained Variance:  0.0239816234827\n",
      "R2:  0.0238269557882\n"
     ]
    }
   ],
   "source": [
    "parameters = {'C':[0.001, 0.01, 0.1, 1, 10]}\n",
    "grid_search = GridSearchCV(svm.SVR(),parameters, cv=4)\n",
    "grid_search.fit(x_training_4folds, y_training_4folds)\n",
    "print \"Support Vector Machine: Support Vector Regression Results:\"\n",
    "print \"Best parameter value is: \", grid_search.best_params_\n",
    "\n",
    "svr = svm.SVR(C=10)\n",
    "svr.fit(x_training_4folds, y_training_4folds)\n",
    "y_test_pred = svr.predict(x_test_set)\n",
    "\n",
    "print \"Mean Squared Error: \", metrics.mean_squared_error(y_test_set, y_test_pred)\n",
    "print \"Mean absolute error: \", metrics.mean_absolute_error(y_test_set, y_test_pred)\n",
    "print \"Explained Variance: \", metrics.explained_variance_score(y_test_set, y_test_pred)\n",
    "print \"R2: \", metrics.r2_score(y_test_set, y_test_pred)"
   ]
  },
  {
   "cell_type": "code",
   "execution_count": null,
   "metadata": {
    "collapsed": false
   },
   "outputs": [],
   "source": []
  },
  {
   "cell_type": "code",
   "execution_count": 16,
   "metadata": {
    "collapsed": false
   },
   "outputs": [
    {
     "name": "stdout",
     "output_type": "stream",
     "text": [
      "Best parameter value is:  {'C': 10}\n"
     ]
    }
   ],
   "source": [
    "# from sklearn.ensemble import RandomForestRegressor\n",
    "# from sklearn.grid_search import GridSearchCV\n",
    "\n",
    "# #apply randomeforestclassifier \n",
    "\n",
    "\n",
    "r_range = list(range(1, 20))\n",
    "\n",
    "# # create a parameter grid: map the parameter names to the values that should be searched\n",
    "param_grid = dict(n_estimators=r_range)\n",
    "\n",
    "# # instantiate the grid\n",
    "grid = GridSearchCV(clf, param_grid, cv=4, scoring='accuracy')\n",
    "grid_search.fit(x_training_4folds, y_training_4folds)\n",
    "print \"Best parameter value is: \", grid_search.best_params_\n"
   ]
  },
  {
   "cell_type": "code",
   "execution_count": 17,
   "metadata": {
    "collapsed": false
   },
   "outputs": [
    {
     "name": "stdout",
     "output_type": "stream",
     "text": [
      "Random Forest Result:\n",
      "\n",
      "\n",
      "Mean Squared Error:  0.76468039604\n",
      "Mean absolute error:  0.582811881188\n",
      "Explained Variance:  0.516717958685\n",
      "R2:  0.516225463171\n"
     ]
    }
   ],
   "source": [
    "#Random Forest Regression\n",
    "\n",
    "rfg = ensemble.RandomForestRegressor(n_estimators=10, max_depth=None,min_samples_split=2, random_state=0)\n",
    "rfg.fit(x_training_4folds, y_training_4folds)\n",
    "y_test_pred = rfg.predict(x_test_set)\n",
    "\n",
    "mean_sq_error =  metrics.mean_squared_error(y_test_set, y_test_pred)\n",
    "print \"Random Forest Result:\"\n",
    "print \"\\n\"\n",
    "print \"Mean Squared Error: \", mean_sq_error\n",
    "print \"Mean absolute error: \", metrics.mean_absolute_error(y_test_set, y_test_pred)\n",
    "print \"Explained Variance: \", metrics.explained_variance_score(y_test_set, y_test_pred)\n",
    "print \"R2: \", metrics.r2_score(y_test_set, y_test_pred)"
   ]
  },
  {
   "cell_type": "code",
   "execution_count": 25,
   "metadata": {
    "collapsed": false
   },
   "outputs": [
    {
     "name": "stdout",
     "output_type": "stream",
     "text": [
      "[False False  True False  True False  True  True  True False False False\n",
      " False  True  True False False False False  True False False  True  True\n",
      " False False False False False False False False False False False False\n",
      " False False False False False False False False False False]\n",
      "[ 7 20  1  4  1 14  1  1  1 10 34 33  9  1  1 12  5 35 36  1 16 37  1  1  2\n",
      "  6 26 22 28 23 25 24 18 32 27 11 15 31 17 19 13  8 30 29  3 21]\n",
      "[False False False False False False False False False False False False\n",
      " False False False False False False False False False False False False\n",
      " False False False  True  True  True  True False False False  True False\n",
      " False False  True  True False False False  True  True  True]\n",
      "[15 17 12 31 18 16 32  9 10 19 37 33 29 26 30 27 21 35 36 25 14 34 28 20 23\n",
      " 24  3  1  1  1  1  2  7  5  1  6 13  4  1  1 11 22  8  1  1  1]\n",
      "\n",
      "\n",
      "The Original Movie Feature List:  \n",
      "['Action', 'Adventure', 'Animation', 'Biography', 'Comedy', 'Crime', 'Documentary', 'Drama', 'Family', 'Fantasy', 'Film-Noir', 'Game-Show', 'History', 'Horror', 'Music', 'Musical', 'Mystery', 'News', 'Reality-TV', 'Romance', 'Sci-Fi', 'Short', 'Sport', 'Thriller', 'War', 'Western', 'actor_1_facebook_likes', 'actor_1_name', 'actor_2_facebook_likes', 'actor_2_name', 'actor_3_facebook_likes', 'actor_3_name', 'aspect_ratio', 'budget', 'cast_total_facebook_likes', 'content_rating', 'country', 'director_facebook_likes', 'director_name', 'duration', 'facenumber_in_poster', 'language', 'movie_facebook_likes', 'num_voted_users', 'plot_keywords', 'title_year']\n"
     ]
    }
   ],
   "source": [
    "#Feature Selection Computation \n",
    "\n",
    "#Linear Regression\n",
    "selector = RFE(clf, 10, step=1)\n",
    "selector = selector.fit(x_feature_sel,y_feature_sel)\n",
    "print selector.support_ \n",
    "print selector.ranking_\n",
    "\n",
    "# #Support Vector Regression\n",
    "# selector = RFE(svr, 5, step=1)\n",
    "# selector = selector.fit(x_feature_sel,y_feature_sel)\n",
    "# print selector.support_ \n",
    "# print selector.ranking_\n",
    "\n",
    "#Randome Forest Regression\n",
    "selector = RFE(rfg, 10, step=1)\n",
    "selector = selector.fit(x_feature_sel,y_feature_sel)\n",
    "print selector.support_ \n",
    "print selector.ranking_\n",
    "\n",
    "\n",
    "print \"\\n\"\n",
    "print \"The Original Movie Feature List:  \"\n",
    "\n",
    "print list(movie_num)"
   ]
  },
  {
   "cell_type": "code",
   "execution_count": 28,
   "metadata": {
    "collapsed": false
   },
   "outputs": [
    {
     "name": "stdout",
     "output_type": "stream",
     "text": [
      "mean sq error 0.886646237624\n",
      "mean sq error 0.772447128713\n",
      "mean sq error 0.796456534653\n",
      "mean sq error 0.814732376238\n"
     ]
    }
   ],
   "source": []
  },
  {
   "cell_type": "code",
   "execution_count": 37,
   "metadata": {
    "collapsed": false
   },
   "outputs": [
    {
     "name": "stdout",
     "output_type": "stream",
     "text": [
      "Best parameter value is:  {'C': 10}\n"
     ]
    }
   ],
   "source": [
    "parameters = {'C':[0.001, 0.01, 0.1, 1, 10]}\n",
    "grid_search = GridSearchCV(svm.SVR(),parameters, cv=4)\n",
    "grid_search.fit(x_training_4folds, y_training_4folds)\n",
    "\n",
    "print \"Best parameter value is: \", grid_search.best_params_"
   ]
  },
  {
   "cell_type": "code",
   "execution_count": 38,
   "metadata": {
    "collapsed": false
   },
   "outputs": [
    {
     "name": "stdout",
     "output_type": "stream",
     "text": [
      "Mean Squared Error:  1.5429923099\n",
      "Mean absolute error:  0.970453213301\n",
      "Explained Variance:  0.0239816234827\n",
      "R2:  0.0238269557882\n",
      "average of mean absolute error 1.5528602488\n",
      "std of mean absolute error 0.00714958892827\n",
      "average of mean_absolute_error 0.976336599082\n",
      "std of mean_absolute_error 0.00167343071915\n",
      "average of explained_variance_score 0.0180086232204\n",
      "std of explained_variance_score 0.00479831317913\n",
      "average of r2 0.0175840108963\n",
      "std of r2 0.00452318261355\n"
     ]
    }
   ],
   "source": [
    "clf = svm.SVR(C=10)\n",
    "clf.fit(x_training_4folds, y_training_4folds)\n",
    "y_test_pred = clf.predict(x_test_set)\n",
    "\n",
    "print \"Mean Squared Error: \", metrics.mean_squared_error(y_test_set, y_test_pred)\n",
    "print \"Mean absolute error: \", metrics.mean_absolute_error(y_test_set, y_test_pred)\n",
    "print \"Explained Variance: \", metrics.explained_variance_score(y_test_set, y_test_pred)\n",
    "print \"R2: \", metrics.r2_score(y_test_set, y_test_pred)\n",
    "\n",
    "\n",
    "mean_sq_error = [0,0,0,0]\n",
    "explained_variance_score = [0,0,0,0]\n",
    "mean_absolute_error = [0,0,0,0]\n",
    "r2 = [0,0,0,0]\n",
    "\n",
    "for index in xrange(0,4):\n",
    "    clf = svm.SVR(C=10)\n",
    "    clf.fit(X_training_sets[index], Y_training_sets[index])\n",
    "    y_test_pred = clf.predict(x_test_set)\n",
    "    mean_sq_error[index] = metrics.mean_squared_error(y_test_set, y_test_pred)\n",
    "    mean_absolute_error[index] = metrics.mean_absolute_error(y_test_set, y_test_pred)\n",
    "    explained_variance_score[index] = metrics.explained_variance_score(y_test_set, y_test_pred)\n",
    "    r2[index] = metrics.r2_score(y_test_set, y_test_pred)\n",
    "    \n",
    "print \"average of mean absolute error\", np.mean(mean_sq_error)\n",
    "print \"std of mean absolute error\", np.std(mean_sq_error)\n",
    "\n",
    "print \"average of mean_absolute_error\", np.mean(mean_absolute_error)\n",
    "print \"std of mean_absolute_error\", np.std(mean_absolute_error)\n",
    "\n",
    "print \"average of explained_variance_score\", np.mean(explained_variance_score)\n",
    "print \"std of explained_variance_score\", np.std(explained_variance_score)\n",
    "\n",
    "print \"average of r2\", np.mean(r2)\n",
    "print \"std of r2\", np.std(r2)"
   ]
  },
  {
   "cell_type": "code",
   "execution_count": null,
   "metadata": {
    "collapsed": true
   },
   "outputs": [],
   "source": [
    "x_training_4folds = [] \n",
    "y_training_4folds = []\n",
    "x_training_4folds.extend(movie_num[0:4031].values.tolist())\n",
    "y_training_4folds.extend(movie[\"imdb_score\"][0:4031].values.T.tolist())\n",
    "\n",
    "print len(x_training_4folds)\n",
    "print len(y_training_4folds)\n",
    "\n",
    "clf = LinearRegression(normalize=True)\n",
    "print clf.get_params()\n",
    "parameters = {'fit_intercept':[True,False], 'normalize':[True,False], 'copy_X':[True, False]}\n",
    "grid_search = GridSearchCV(LinearRegression(),parameters, cv=4)\n",
    "grid_search.fit(x_training_4folds, y_training_4folds)\n",
    "\n",
    "print \"Best parameter value is: \", grid_search.best_params_\n",
    "\n",
    "mean_sq_error = [0,0,0,0]\n",
    "explained_variance_score = [0,0,0,0]\n",
    "mean_absolute_error = [0,0,0,0]\n",
    "r2 = [0,0,0,0]\n",
    "\n",
    "for index in xrange(0,4):\n",
    "    clf = LinearRegression(copy_X=True, normalize=True, n_jobs=1, fit_intercept=True)\n",
    "    clf.fit(X_training_sets[index], Y_training_sets[index])\n",
    "    y_test_pred = clf.predict(x_test_set)\n",
    "    mean_sq_error[index] =  metrics.mean_squared_error(y_test_set, y_test_pred)\n",
    "    mean_absolute_error[index] = metrics.mean_absolute_error(y_test_set, y_test_pred)\n",
    "    explained_variance_score[index] =  metrics.explained_variance_score(y_test_set, y_test_pred)\n",
    "    r2[index]= metrics.r2_score(y_test_set, y_test_pred)\n",
    "\n",
    "print \"average of mean absolute error\", np.mean(mean_sq_error)\n",
    "print \"std of mean absolute error\", np.std(mean_sq_error)\n",
    "\n",
    "print \"average of explained_variance_score\", np.mean(explained_variance_score)\n",
    "print \"std of explained_variance_score\", np.std(explained_variance_score)\n",
    "\n",
    "print \"average of mean_absolute_error\", np.mean(mean_absolute_error)\n",
    "print \"std of mean_absolute_error\", np.std(mean_absolute_error)\n",
    "\n",
    "print \"average of r2\", np.mean(r2)\n",
    "print \"std of r2\", np.std(r2)"
   ]
  },
  {
   "cell_type": "code",
   "execution_count": 35,
   "metadata": {
    "collapsed": false
   },
   "outputs": [
    {
     "name": "stdout",
     "output_type": "stream",
     "text": [
      "Best parameter value is:  {'n_estimators': 14}\n"
     ]
    }
   ],
   "source": [
    "r_range = list(range(1, 20))\n",
    "\n",
    "# # create a parameter grid: map the parameter names to the values that should be searched\n",
    "param_grid = dict(n_estimators=r_range)\n",
    "\n",
    "# # instantiate the grid\n",
    "grid_search = GridSearchCV(ensemble.RandomForestRegressor(), param_grid, cv=4)\n",
    "grid_search.fit(x_training_4folds, y_training_4folds)\n",
    "print \"Best parameter value is: \", grid_search.best_params_"
   ]
  },
  {
   "cell_type": "code",
   "execution_count": 36,
   "metadata": {
    "collapsed": false
   },
   "outputs": [
    {
     "name": "stdout",
     "output_type": "stream",
     "text": [
      "average of mean absolute error 0.742205837038\n",
      "std of mean absolute error 0.0180719746774\n",
      "average of mean_absolute_error 0.587013790665\n",
      "std of mean_absolute_error 0.0102857734327\n",
      "average of explained_variance_score 0.533017671589\n",
      "std of explained_variance_score 0.00882648479472\n",
      "average of r2 0.530443977766\n",
      "std of r2 0.0114332225913\n"
     ]
    }
   ],
   "source": [
    "mean_sq_error = [0,0,0,0]\n",
    "explained_variance_score = [0,0,0,0]\n",
    "mean_absolute_error = [0,0,0,0]\n",
    "r2 = [0,0,0,0]\n",
    "\n",
    "for index in xrange(0,4):\n",
    "    rfg = ensemble.RandomForestRegressor(n_estimators=14, max_depth=None,min_samples_split=2, random_state=0)\n",
    "    rfg.fit(X_training_sets[index], Y_training_sets[index])\n",
    "    y_test_pred = rfg.predict(x_test_set)\n",
    "    mean_sq_error[index] = metrics.mean_squared_error(y_test_set, y_test_pred)\n",
    "    mean_absolute_error[index] = metrics.mean_absolute_error(y_test_set, y_test_pred)\n",
    "    explained_variance_score[index] = metrics.explained_variance_score(y_test_set, y_test_pred)\n",
    "    r2[index] = metrics.r2_score(y_test_set, y_test_pred)\n",
    "    \n",
    "print \"average of mean absolute error\", np.mean(mean_sq_error)\n",
    "print \"std of mean absolute error\", np.std(mean_sq_error)\n",
    "\n",
    "print \"average of mean_absolute_error\", np.mean(mean_absolute_error)\n",
    "print \"std of mean_absolute_error\", np.std(mean_absolute_error)\n",
    "\n",
    "print \"average of explained_variance_score\", np.mean(explained_variance_score)\n",
    "print \"std of explained_variance_score\", np.std(explained_variance_score)\n",
    "\n",
    "print \"average of r2\", np.mean(r2)\n",
    "print \"std of r2\", np.std(r2)"
   ]
  },
  {
   "cell_type": "code",
   "execution_count": 40,
   "metadata": {
    "collapsed": false
   },
   "outputs": [
    {
     "name": "stdout",
     "output_type": "stream",
     "text": [
      "average of mean absolute error 0.760525333401\n",
      "std of mean absolute error 0.0314574071559\n",
      "average of mean_absolute_error 0.586916548798\n",
      "std of mean_absolute_error 0.0191907835281\n",
      "average of explained_variance_score 0.521135368193\n",
      "std of explained_variance_score 0.0184303233493\n",
      "average of r2 0.518854160747\n",
      "std of r2 0.0199015074213\n"
     ]
    }
   ],
   "source": [
    "#Randome Forest Regression -- With Variable Elimination\n",
    "\n",
    "mean_sq_error = [0,0,0,0]\n",
    "explained_variance_score = [0,0,0,0]\n",
    "mean_absolute_error = [0,0,0,0]\n",
    "r2 = [0,0,0,0]\n",
    "\n",
    "for index in xrange(0,4):\n",
    "    selector = RFE(rfg, 7, step=1)\n",
    "    selector = selector.fit(X_training_sets[index],Y_training_sets[index])\n",
    "    print selector.ranking_\n",
    "    y_test_pred = selector.predict(x_test_set)\n",
    "    mean_sq_error[index] =  metrics.mean_squared_error(y_test_set, y_test_pred)\n",
    "    mean_absolute_error[index] = metrics.mean_absolute_error(y_test_set, y_test_pred)\n",
    "    explained_variance_score[index] = metrics.explained_variance_score(y_test_set, y_test_pred)\n",
    "    r2[index] = metrics.r2_score(y_test_set, y_test_pred)\n",
    "    \n",
    "print \"average of mean absolute error\", np.mean(mean_sq_error)\n",
    "print \"std of mean absolute error\", np.std(mean_sq_error)\n",
    "\n",
    "print \"average of mean_absolute_error\", np.mean(mean_absolute_error)\n",
    "print \"std of mean_absolute_error\", np.std(mean_absolute_error)\n",
    "\n",
    "print \"average of explained_variance_score\", np.mean(explained_variance_score)\n",
    "print \"std of explained_variance_score\", np.std(explained_variance_score)\n",
    "\n",
    "print \"average of r2\", np.mean(r2)\n",
    "print \"std of r2\", np.std(r2)"
   ]
  },
  {
   "cell_type": "code",
   "execution_count": null,
   "metadata": {
    "collapsed": true
   },
   "outputs": [],
   "source": [
    "mean_sq_error = [0,0,0,0]\n",
    "explained_variance_score = [0,0,0,0]\n",
    "mean_absolute_error = [0,0,0,0]\n",
    "r2 = [0,0,0,0]\n",
    "\n",
    "for index in xrange(0,4):\n",
    "    mlp = MLPRegressor(activation='logistic', hidden_layer_sizes=300, alpha= 0.001, learning_rate_init = 0.01)\n",
    "    mlp.fit(X_training_sets[index], Y_training_sets[index])\n",
    "    y_test_pred = mlp.predict(x_test_set)\n",
    "    mean_sq_error[index] = metrics.mean_squared_error(y_test_set, y_test_pred)\n",
    "    mean_absolute_error[index] = metrics.mean_absolute_error(y_test_set, y_test_pred)\n",
    "    explained_variance_score[index] = metrics.explained_variance_score(y_test_set, y_test_pred)\n",
    "    r2[index] = metrics.r2_score(y_test_set, y_test_pred)\n",
    "    \n",
    "print \"average of mean absolute error\", np.mean(mean_sq_error)\n",
    "print \"std of mean absolute error\", np.std(mean_sq_error)\n",
    "\n",
    "print \"average of mean_absolute_error\", np.mean(mean_absolute_error)\n",
    "print \"std of mean_absolute_error\", np.std(mean_absolute_error)\n",
    "\n",
    "print \"average of explained_variance_score\", np.mean(explained_variance_score)\n",
    "print \"std of explained_variance_score\", np.std(explained_variance_score)\n",
    "\n",
    "print \"average of r2\", np.mean(r2)\n",
    "print \"std of r2\", np.std(r2)"
   ]
  }
 ],
 "metadata": {
  "kernelspec": {
   "display_name": "Python 2",
   "language": "python",
   "name": "python2"
  },
  "language_info": {
   "codemirror_mode": {
    "name": "ipython",
    "version": 2
   },
   "file_extension": ".py",
   "mimetype": "text/x-python",
   "name": "python",
   "nbconvert_exporter": "python",
   "pygments_lexer": "ipython2",
   "version": "2.7.13"
  }
 },
 "nbformat": 4,
 "nbformat_minor": 2
}
